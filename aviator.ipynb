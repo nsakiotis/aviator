{
 "cells": [
  {
   "cell_type": "code",
   "execution_count": 194,
   "id": "faa8ef1f-0e4e-4e90-8495-3a5667d5a588",
   "metadata": {
    "tags": []
   },
   "outputs": [],
   "source": [
    "import cv2\n",
    "import pytesseract\n",
    "import re\n",
    "import glob\n",
    "import os\n",
    "import numpy as np"
   ]
  },
  {
   "cell_type": "code",
   "execution_count": 195,
   "id": "336ff57e-3459-4339-83cf-43f3f03f8d8b",
   "metadata": {
    "tags": []
   },
   "outputs": [],
   "source": [
    "#install tesseract: https://github.com/UB-Mannheim/tesseract/wiki\n",
    "pytesseract.pytesseract.tesseract_cmd = r\"C:\\Program Files\\Tesseract-OCR\\tesseract.exe\""
   ]
  },
  {
   "cell_type": "code",
   "execution_count": 196,
   "id": "2fac97c1-9663-49ae-9ae0-b212bb8c48d7",
   "metadata": {},
   "outputs": [],
   "source": [
    "np.set_printoptions(precision=2)"
   ]
  },
  {
   "cell_type": "code",
   "execution_count": 197,
   "id": "07d24b41-1809-4389-a517-a01772259c39",
   "metadata": {
    "tags": []
   },
   "outputs": [],
   "source": [
    "path = r'data'\n",
    "odds_sequences = glob.glob(os.path.join(path, \"*.jpg\"))"
   ]
  },
  {
   "cell_type": "code",
   "execution_count": 198,
   "id": "8965f2d4-e9b4-4271-9aa8-058c8a7cfb72",
   "metadata": {
    "tags": []
   },
   "outputs": [
    {
     "data": {
      "text/plain": [
       "['data\\\\matrix-1.JPG', 'data\\\\matrix-2.JPG', 'data\\\\matrix-3.JPG']"
      ]
     },
     "execution_count": 198,
     "metadata": {},
     "output_type": "execute_result"
    }
   ],
   "source": [
    "odds_sequences"
   ]
  },
  {
   "cell_type": "code",
   "execution_count": 199,
   "id": "6ca29feb-389b-490f-a14c-fb163b5816ee",
   "metadata": {
    "tags": []
   },
   "outputs": [],
   "source": [
    "def img_to_float_array(filepath): \n",
    "    # Read the image\n",
    "    img = cv2.imread(filepath)\n",
    "\n",
    "    # Apply some pre-processing (optional)\n",
    "    gray = cv2.cvtColor(img, cv2.COLOR_BGR2GRAY)\n",
    "    #gray = cv2.medianBlur(gray, 3)\n",
    "\n",
    "    # Use Tesseract OCR to extract text from the image\n",
    "    text = pytesseract.image_to_string(gray, config='--psm 6')\n",
    "\n",
    "    # Extract numbers from the text\n",
    "    sequence = [int(s) for s in text.split() if s.isdigit()]\n",
    "\n",
    "    # Use regular expression to split the string by non-digit characters or dot\n",
    "    sequence = re.split(r'[^0-9.]', text)\n",
    "\n",
    "    # Filter out empty strings and convert the list of strings to floats\n",
    "    #numbers = [float(num) for num in numbers if num]\n",
    "    sequence = [s for s in sequence if s]\n",
    "\n",
    "    # Clean values\n",
    "    sequence = [s for s in sequence if s not in ['0','.']]\n",
    "\n",
    "    # If a string value does not contain a dot, insert a dot after the second digit from the right\n",
    "    sequence = [s[: -2] + '.' + s[-2:] if '.' not in s else s for s in sequence]\n",
    "\n",
    "    # Reverse the order of the numbers (bottom right to top left)\n",
    "    sequence.reverse()\n",
    "    \n",
    "    #print(sequence)\n",
    "\n",
    "    # transform to float and clean further\n",
    "    sequence = [float(s) for s in sequence]\n",
    "    sequence = [f for f in sequence if f >= 1]\n",
    "    \n",
    "    return sequence"
   ]
  },
  {
   "cell_type": "code",
   "execution_count": 200,
   "id": "6e98eb29-541f-4985-a905-fc5a147219d9",
   "metadata": {
    "tags": []
   },
   "outputs": [],
   "source": [
    "def calculate_session_win(odds_array, left_bet, left_odd, right_bet, right_odd, recover_steps, start_after_first_defeat=True):\n",
    "    started = False\n",
    "    mode = 'bet'\n",
    "    profit = 0\n",
    "    steps = recover_steps\n",
    "    win = 0\n",
    "    max_win = 0\n",
    "    max_loss = 0\n",
    "    \n",
    "    for odd in odds_array:\n",
    "        balance = win\n",
    "        if not started:\n",
    "            if start_after_first_defeat:\n",
    "                if odd >= left_odd:\n",
    "                    continue\n",
    "                else:\n",
    "                    started=True\n",
    "                    continue\n",
    "            else:\n",
    "                started=True\n",
    "        if mode == 'bet':\n",
    "            if odd >= left_odd:\n",
    "                win += (left_bet*left_odd) - left_bet\n",
    "            else:\n",
    "                win -= left_bet\n",
    "                mode = 'recover'\n",
    "            \n",
    "            if odd >= right_odd:\n",
    "                win += (right_bet*right_odd) - right_bet\n",
    "            else:\n",
    "                win -= right_bet\n",
    "        elif mode == 'recover':\n",
    "            if odd >= left_odd:\n",
    "                win += (left_bet*left_odd) - left_bet\n",
    "                steps -= 1\n",
    "            else:\n",
    "                win -= left_bet\n",
    "                steps = steps + recover_steps\n",
    "            \n",
    "            if steps == 0:\n",
    "                steps = recover_steps\n",
    "                mode = 'bet'\n",
    "        if win > max_win:\n",
    "            max_win = win\n",
    "        if win < max_loss:\n",
    "            max_loss = win    \n",
    "        #print('Balance: ' + str(balance) + ', Odd: '+ str(odd) + ', Mode: ' + mode + ', Steps: ' + str(steps) + ', Win: ' + str(win))     \n",
    "    return win, max_win, max_loss      "
   ]
  },
  {
   "cell_type": "code",
   "execution_count": 201,
   "id": "7fb38e38-5323-427c-8004-72f5d68e9964",
   "metadata": {
    "tags": []
   },
   "outputs": [],
   "source": [
    "# list of bet configuration to be evaluated\n",
    "configs = []\n",
    "for left_odd, recover_steps in [(1.10, 10), (1.20, 5), (1.25, 4), (1.33, 3)]:\n",
    "    for right_odd in [5, 10, 25, 50, 70, 100, 200]:\n",
    "        configs.append({'left_bet':10, 'left_odd':left_odd, 'right_bet':1, 'right_odd':right_odd, 'recover_steps':recover_steps, 'start_after_first_defeat':True})"
   ]
  },
  {
   "cell_type": "code",
   "execution_count": 202,
   "id": "a6514dc8-aba3-4e11-a15f-da89fe1c9c33",
   "metadata": {
    "tags": []
   },
   "outputs": [
    {
     "name": "stdout",
     "output_type": "stream",
     "text": [
      "Config: 0, Seq: 2, Win: 4.899999999999986, Max. win: 8.2, Max. loss: 0\n",
      "Config: 1, Seq: 2, Win: 14.899999999999993, Max. win: 18.2, Max. loss: 0\n",
      "Config: 7, Seq: 2, Win: 4.0000000000000036, Max. win: 10.2, Max. loss: -2.4000000000000004\n",
      "Config: 8, Seq: 2, Win: 8.999999999999972, Max. win: 15.2, Max. loss: -2.4000000000000004\n",
      "Config: 9, Seq: 2, Win: 13.999999999999972, Max. win: 21.8, Max. loss: -2.4000000000000004\n",
      "Config: 10, Seq: 2, Win: 39.000000000000114, Max. win: 46.8, Max. loss: -2.4000000000000004\n",
      "Config: 11, Seq: 2, Win: 59.000000000000114, Max. win: 66.8, Max. loss: -2.4000000000000004\n",
      "Config: 12, Seq: 2, Win: 89.00000000000011, Max. win: 96.8, Max. loss: -2.4000000000000004\n",
      "Config: 13, Seq: 2, Win: 188.99999999999955, Max. win: 196.8, Max. loss: -2.4000000000000004\n",
      "Config: 14, Seq: 2, Win: 3.75, Max. win: 10.5, Max. loss: -2.25\n",
      "Config: 15, Seq: 2, Win: 8.75, Max. win: 15.5, Max. loss: -2.25\n",
      "Config: 16, Seq: 2, Win: 13.75, Max. win: 22.0, Max. loss: -2.25\n",
      "Config: 17, Seq: 2, Win: 38.75, Max. win: 47.0, Max. loss: -2.25\n",
      "Config: 18, Seq: 2, Win: 58.75, Max. win: 67.0, Max. loss: -2.25\n",
      "Config: 19, Seq: 2, Win: 88.75, Max. win: 97.0, Max. loss: -2.25\n",
      "Config: 20, Seq: 2, Win: 188.75, Max. win: 197.0, Max. loss: -2.25\n",
      "Config: 21, Seq: 1, Win: 5.520000000000003, Max. win: 11.620000000000001, Max. loss: 0\n"
     ]
    }
   ],
   "source": [
    "for c_idx, c in enumerate(configs):\n",
    "    for seq_idx, seq in enumerate(odds_sequences):\n",
    "        win, max_win, max_loss = calculate_session_win(img_to_float_array(seq), 1, c['left_odd'], 1, c['right_odd'], c['recover_steps'], c['start_after_first_defeat'])\n",
    "        if win>=0:\n",
    "            print('Config: ' + str(c_idx) + ', Seq: '+ str(seq_idx) + ', Win: ' + str(win) + ', Max. win: ' + str(max_win) + ', Max. loss: ' + str(max_loss))    "
   ]
  }
 ],
 "metadata": {
  "kernelspec": {
   "display_name": "Python 3 (ipykernel)",
   "language": "python",
   "name": "python3"
  },
  "language_info": {
   "codemirror_mode": {
    "name": "ipython",
    "version": 3
   },
   "file_extension": ".py",
   "mimetype": "text/x-python",
   "name": "python",
   "nbconvert_exporter": "python",
   "pygments_lexer": "ipython3",
   "version": "3.8.17"
  }
 },
 "nbformat": 4,
 "nbformat_minor": 5
}
